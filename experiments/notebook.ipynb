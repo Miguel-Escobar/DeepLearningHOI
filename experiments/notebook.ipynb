{
 "cells": [
  {
   "cell_type": "code",
   "execution_count": 86,
   "metadata": {},
   "outputs": [],
   "source": [
    "%matplotlib osx"
   ]
  },
  {
   "cell_type": "code",
   "execution_count": 87,
   "metadata": {},
   "outputs": [],
   "source": [
    "import lop.slowly_changing_regression.hoi_measures.datatools as datatools"
   ]
  },
  {
   "cell_type": "code",
   "execution_count": 95,
   "metadata": {},
   "outputs": [],
   "source": [
    "datatensor = datatools.data_dir_to_tensor(\"lop/slowly_changing_regression/data/sgd/bp/relu/0\")"
   ]
  },
  {
   "cell_type": "code",
   "execution_count": 96,
   "metadata": {},
   "outputs": [],
   "source": [
    "datalist = [datatensor[i, :, :] for i in range(datatensor.shape[0])]"
   ]
  },
  {
   "cell_type": "code",
   "execution_count": 90,
   "metadata": {},
   "outputs": [
    {
     "data": {
      "text/plain": [
       "torch.Size([81, 110])"
      ]
     },
     "execution_count": 90,
     "metadata": {},
     "output_type": "execute_result"
    }
   ],
   "source": [
    "datalist[0].shape"
   ]
  },
  {
   "cell_type": "code",
   "execution_count": 91,
   "metadata": {},
   "outputs": [],
   "source": [
    "import pandas as pd\n",
    "import seaborn as sns\n",
    "\n",
    "idx = 10\n",
    "nparams = 5\n",
    "\n",
    "plot1 = sns.pairplot(pd.DataFrame(datalist[1][:, idx:idx+nparams].numpy()))\n",
    "\n",
    "plot1.savefig(\"pairplot.png\")\n",
    "\n",
    "plot2 = sns.pairplot(pd.DataFrame(datalist[-1][:, idx:idx+nparams].numpy()))\n",
    "\n",
    "plot2.savefig(\"pairplot2.png\")"
   ]
  },
  {
   "cell_type": "code",
   "execution_count": 11,
   "metadata": {},
   "outputs": [],
   "source": [
    "from thoi.measures.gaussian_copula import multi_order_measures, nplets_measures\n",
    "from thoi.heuristics import simulated_annealing, greedy"
   ]
  },
  {
   "cell_type": "code",
   "execution_count": 92,
   "metadata": {},
   "outputs": [
    {
     "name": "stdout",
     "output_type": "stream",
     "text": [
      "Warning: some variables are constant\n",
      "5.8803921930881164e-06\n"
     ]
    },
    {
     "data": {
      "text/plain": [
       "<Axes: >"
      ]
     },
     "execution_count": 92,
     "metadata": {},
     "output_type": "execute_result"
    }
   ],
   "source": [
    "import numpy as np\n",
    "\n",
    "covmat = np.cov(datalist[99][:, :].T.numpy())\n",
    "\n",
    "if np.any(np.abs(covmat) <  1e-4):\n",
    "    print(\"Warning: some variables are constant\")\n",
    "    print(np.min(np.abs(covmat)))\n",
    "\n",
    "sns.heatmap(covmat)\n"
   ]
  },
  {
   "cell_type": "code",
   "execution_count": 93,
   "metadata": {},
   "outputs": [
    {
     "data": {
      "text/plain": [
       "tensor([[[2.7302, 1.1876, 1.5426, 3.9178]]], dtype=torch.float64)"
      ]
     },
     "execution_count": 93,
     "metadata": {},
     "output_type": "execute_result"
    }
   ],
   "source": [
    "testmeasure = nplets_measures(datalist[999][:, :39], [range(39)])\n",
    "testmeasure"
   ]
  },
  {
   "cell_type": "code",
   "execution_count": 21,
   "metadata": {},
   "outputs": [
    {
     "name": "stderr",
     "output_type": "stream",
     "text": [
      "                                                       \r"
     ]
    }
   ],
   "source": [
    "npletsids, scores = greedy(datalist[-2][:, :40], largest = False, metric = \"o\", batch_size=50_000)"
   ]
  },
  {
   "cell_type": "code",
   "execution_count": 19,
   "metadata": {},
   "outputs": [],
   "source": [
    "scores_cpu = scores.cpu().numpy()"
   ]
  },
  {
   "cell_type": "code",
   "execution_count": 22,
   "metadata": {},
   "outputs": [
    {
     "data": {
      "text/plain": [
       "[<matplotlib.lines.Line2D at 0x17e2e9990>]"
      ]
     },
     "execution_count": 22,
     "metadata": {},
     "output_type": "execute_result"
    }
   ],
   "source": [
    "greedy_min = np.min(scores_cpu, axis=0)\n",
    "\n",
    "import matplotlib.pyplot as plt\n",
    "\n",
    "plt.plot(greedy_min)"
   ]
  },
  {
   "cell_type": "markdown",
   "metadata": {},
   "source": [
    "# todo\n",
    "\n",
    "- Matriz tiene cov 0 en algunas coords y tira NaN. Podríamos sacarlo nomás\n",
    "- Quizas hay params que no se indeterminan por pertenecer al mismo grupo de parametros.\n",
    "-\n",
    "Si se vuelve mucho podemos estudiar los eigvals de la matriz de cov. Si hay uno muy grande nos habla de redundancia."
   ]
  },
  {
   "cell_type": "code",
   "execution_count": 60,
   "metadata": {},
   "outputs": [],
   "source": []
  },
  {
   "cell_type": "code",
   "execution_count": 99,
   "metadata": {},
   "outputs": [
    {
     "name": "stderr",
     "output_type": "stream",
     "text": [
      "100%|██████████| 100/100 [00:10<00:00,  9.52it/s]\n"
     ]
    },
    {
     "data": {
      "text/plain": [
       "[<matplotlib.lines.Line2D at 0x3b3eb5790>]"
      ]
     },
     "execution_count": 99,
     "metadata": {},
     "output_type": "execute_result"
    }
   ],
   "source": [
    "import numpy as np\n",
    "from tqdm import trange\n",
    "# Define the kernel for averaging the nearest 40000 elements\n",
    "\n",
    "def timebin_data(data, binsize):\n",
    "    return np.array([np.mean(data[i*binsize:(i+1)*binsize]) for i in range(len(data) // binsize)])\n",
    "\n",
    "avg_errs = np.zeros(25)\n",
    "for idx in trange(100):\n",
    "    datadict = datatools.load_data(\"lop/slowly_changing_regression/data/sgd/cbp/relu/0/\" + str(idx))\n",
    "    # Perform the convolution\n",
    "    smoothed_errs = timebin_data(datadict[\"errs\"], 40000)\n",
    "\n",
    "# Plot the smoothed errors\n",
    "plt.clf()\n",
    "plt.plot(np.arange(25) * 40000, smoothed_errs)"
   ]
  },
  {
   "cell_type": "code",
   "execution_count": 100,
   "metadata": {},
   "outputs": [
    {
     "name": "stderr",
     "output_type": "stream",
     "text": [
      "100%|██████████| 100/100 [00:10<00:00,  9.91it/s]\n"
     ]
    },
    {
     "data": {
      "text/plain": [
       "[<matplotlib.lines.Line2D at 0x34b31b4d0>]"
      ]
     },
     "execution_count": 100,
     "metadata": {},
     "output_type": "execute_result"
    }
   ],
   "source": [
    "avg_errs = np.zeros(25)\n",
    "for idx in trange(100):\n",
    "    datadict = datatools.load_data(\"lop/slowly_changing_regression/data/sgd/bp/relu/0/\" + str(idx))\n",
    "    # Perform the convolution\n",
    "    smoothed_errs = timebin_data(datadict[\"errs\"], 40000)\n",
    "plt.plot(np.arange(25) * 40000, smoothed_errs)"
   ]
  },
  {
   "cell_type": "code",
   "execution_count": 98,
   "metadata": {},
   "outputs": [
    {
     "name": "stderr",
     "output_type": "stream",
     "text": [
      "                                                       \r"
     ]
    },
    {
     "name": "stdout",
     "output_type": "stream",
     "text": [
      "GIF saved as bp_greedy_min_visualization.gif\n"
     ]
    }
   ],
   "source": [
    "import matplotlib.pyplot as plt\n",
    "import numpy as np\n",
    "import imageio.v2 as imageio\n",
    "\n",
    "# Placeholder for storing generated images\n",
    "frames = []\n",
    "\n",
    "A = np.arange(16)*60\n",
    "\n",
    "# Iterate through datalist\n",
    "for i in A:\n",
    "    npletsids, scores = greedy(datalist[i][:, :40], largest=False, metric=\"o\", batch_size=50_000)\n",
    "    scores_cpu = scores.cpu().numpy()\n",
    "    greedy_min = np.min(scores_cpu, axis=0)\n",
    "    \n",
    "    npletsids2, scores2 = greedy(datalist[i][:, :40], largest=True, metric=\"o\", batch_size=50_000)\n",
    "    scores_cpu2 = scores2.cpu().numpy()\n",
    "    greedy_max = np.max(scores_cpu2, axis=0)\n",
    "\n",
    "    # Plot the result\n",
    "    plt.figure(figsize=(6, 4))\n",
    "    plt.plot(greedy_max, label=\"Maximum O-information\")\n",
    "    plt.plot(greedy_min, label=\"Minimum O-information\")\n",
    "    plt.title(f\"Order v/s O-information for training step {i*1000}\")\n",
    "    plt.xlabel(\"Order\")\n",
    "    plt.ylabel(\"O-Info\")\n",
    "    plt.legend()\n",
    "    plt.grid()\n",
    "    plt.xlim([0,35])\n",
    "    plt.ylim([-1.0, 1.5])\n",
    "\n",
    "    # Save the frame as an image in memory\n",
    "    filename = f\"frame.png\"\n",
    "    plt.savefig(filename)\n",
    "    frames.append(imageio.imread(filename))  # Add the image to the frames list\n",
    "    plt.close()  # Close the plot to avoid memory issues\n",
    "\n",
    "# Create a GIF from the frames\n",
    "output_gif = \"bp_greedy_min_visualization.gif\"\n",
    "imageio.mimsave(output_gif, frames, fps=1)  # Adjust fps for speed\n",
    "\n",
    "print(f\"GIF saved as {output_gif}\")"
   ]
  }
 ],
 "metadata": {
  "kernelspec": {
   "display_name": ".venv",
   "language": "python",
   "name": "python3"
  },
  "language_info": {
   "codemirror_mode": {
    "name": "ipython",
    "version": 3
   },
   "file_extension": ".py",
   "mimetype": "text/x-python",
   "name": "python",
   "nbconvert_exporter": "python",
   "pygments_lexer": "ipython3",
   "version": "3.11.11"
  }
 },
 "nbformat": 4,
 "nbformat_minor": 2
}
