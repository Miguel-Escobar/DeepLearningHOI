{
 "cells": [
  {
   "cell_type": "code",
   "execution_count": 1,
   "metadata": {},
   "outputs": [],
   "source": [
    "import src.model as model\n",
    "import src.train as train\n",
    "import jax, jax.numpy as jnp\n",
    "from flax import nnx"
   ]
  },
  {
   "cell_type": "code",
   "execution_count": 2,
   "metadata": {},
   "outputs": [],
   "source": [
    "Miguel = model.Student(10, 5, nnx.tanh, nnx.Rngs(0))\n",
    "Patricio = model.Teacher(10, 100, nnx.Rngs(0))"
   ]
  },
  {
   "cell_type": "code",
   "execution_count": 3,
   "metadata": {},
   "outputs": [],
   "source": [
    "n_samples = 1_000_000\n",
    "n_slow_bits = 4\n",
    "n_fast_bits = 5\n",
    "switch_every = 1_000\n",
    "\n",
    "x_data = train.generate_x_data(n_samples, n_slow_bits, n_fast_bits, switch_every=switch_every)"
   ]
  },
  {
   "cell_type": "code",
   "execution_count": 4,
   "metadata": {},
   "outputs": [
    {
     "name": "stderr",
     "output_type": "stream",
     "text": [
      "100%|██████████| 1000/1000 [00:01<00:00, 621.03it/s]\n"
     ]
    }
   ],
   "source": [
    "import cProfile\n",
    "import pstats\n",
    "import io\n",
    "profiler = cProfile.Profile()\n",
    "profiler.enable()\n",
    "\n",
    "# Start code here\n",
    "\n",
    "metrics = train.train_model(Miguel, Patricio, x_data, switch_every, 1_000)\n",
    "# End code here\n",
    "\n",
    "profiler.disable()\n",
    "s = io.StringIO()\n",
    "stats = pstats.Stats(profiler, stream=s).sort_stats('tottime')\n",
    "stats.print_stats()\n",
    "with open('test.txt', 'w+') as f:\n",
    "    f.write(s.getvalue())"
   ]
  }
 ],
 "metadata": {
  "kernelspec": {
   "display_name": ".venv",
   "language": "python",
   "name": "python3"
  },
  "language_info": {
   "codemirror_mode": {
    "name": "ipython",
    "version": 3
   },
   "file_extension": ".py",
   "mimetype": "text/x-python",
   "name": "python",
   "nbconvert_exporter": "python",
   "pygments_lexer": "ipython3",
   "version": "3.11.11"
  }
 },
 "nbformat": 4,
 "nbformat_minor": 2
}
